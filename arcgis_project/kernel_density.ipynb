{
 "cells": [
  {
   "cell_type": "code",
   "execution_count": 1,
   "metadata": {},
   "outputs": [],
   "source": [
    "# Description: Calculates the bush density pattern \n",
    "#              based on the point samples using a kernel function to\n",
    "#              fit a smoothly tapered surface.\n",
    "# Requirements: Spatial Analyst Extension\n",
    "\n",
    "# Import system modules\n",
    "import arcpy\n",
    "from arcpy import env\n",
    "from arcpy.sa import *\n",
    "import os\n",
    "\n",
    "# Set environment settings\n",
    "env.overwriteOutput = True\n",
    "env.parallelProcessingFactor = \"90%\"\n",
    "\n",
    "# Set local variables\n",
    "\n",
    "populationField = None\n",
    "cellSize = \"\"\n",
    "searchRadius = \"\"\n",
    "inBarriers = \"\"\n",
    "folder_path = \"D:\\\\PROJECT_TREES\\\\MAUNGATAUTARI\\\\R_OUTPUT\\\\TREETOPS\\\\\"\n",
    "output_path = \"D:\\\\PROJECT_TREES\\\\MAUNGATAUTARI\\\\R_OUTPUT\\\\BUSHDENSITY\\\\\"\n",
    "\n",
    "files = [f for f in os.listdir(folder_path) if f.endswith(\".shp\")]\n",
    "for file in files:\n",
    "    inFeatures = os.path.join(folder_path, file)\n",
    "    filename = file[file.find(\"_\")+1:]\n",
    "    filename = filename[:filename.find(\"_\")]\n",
    "    bush_density = KernelDensity(inFeatures, populationField, cellSize, searchRadius, \"HECTARES\", \"DENSITIES\", \"PLANAR\", inBarriers)\n",
    "    # Save the output \n",
    "    bush_density.save(output_path + \"BUSHDENSITY_\"+filename+\".tif\")\n"
   ]
  }
 ],
 "metadata": {
  "kernelspec": {
   "display_name": "ArcGISPro",
   "language": "Python",
   "name": "python3"
  },
  "language_info": {
   "file_extension": ".py",
   "name": "python",
   "version": "3"
  }
 },
 "nbformat": 4,
 "nbformat_minor": 2
}
