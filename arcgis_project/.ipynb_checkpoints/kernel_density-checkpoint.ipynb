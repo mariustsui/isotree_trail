{
 "cells": [
  {
   "cell_type": "code",
   "execution_count": null,
   "metadata": {},
   "outputs": [],
   "source": [
    "# Description: Calculates the bush density pattern \n",
    "#              based on the point samples using a kernel function to\n",
    "#              fit a smoothly tapered surface.\n",
    "# Requirements: Spatial Analyst Extension\n",
    "\n",
    "# Import system modules\n",
    "import arcpy\n",
    "from arcpy import env\n",
    "from arcpy.sa import *\n",
    "\n",
    "# Set environment settings\n",
    "env.workspace = \"C:/sapyexamples/data\"\n",
    "\n",
    "# Set local variables\n",
    "inFeatures = \"ozone_california.shp\"\n",
    "populationField = \"OZONE\"\n",
    "cellSize = 60\n",
    "searchRadius = 2500\n",
    "inBarriers = \"SierraNevada.shp\"\n",
    "\n",
    "# Execute KernelDensity\n",
    "outKernelDensity = KernelDensity(inFeatures, populationField, cellSize, searchRadius,\n",
    "                                 \"SQUARE_KILOMETERS\", \"DENSITIES\", \"PLANAR\", inBarriers)\n",
    "\n",
    "# Save the output \n",
    "outKernelDensity.save(\"C:/sapyexamples/output/KD_ozone_california.tif\")"
   ]
  }
 ],
 "metadata": {
  "kernelspec": {
   "display_name": "ArcGISPro",
   "language": "Python",
   "name": "python3"
  },
  "language_info": {
   "file_extension": ".py",
   "name": "python",
   "version": "3"
  }
 },
 "nbformat": 4,
 "nbformat_minor": 2
}
